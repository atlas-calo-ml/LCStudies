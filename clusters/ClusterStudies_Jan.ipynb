{
 "cells": [
  {
   "cell_type": "markdown",
   "id": "7275ef37-bf27-47c0-8874-27a01a548ca5",
   "metadata": {},
   "source": [
    "## Cluster Studies (Jan)\n",
    "\n",
    "Here is an updated version of the ClusterStudies.ipynb notebook, using uproot4 and newer versions of our plotting utilities."
   ]
  },
  {
   "cell_type": "code",
   "execution_count": 1,
   "id": "a6bd3246-1e22-469c-9e14-dc2cd257e21e",
   "metadata": {},
   "outputs": [
    {
     "name": "stdout",
     "output_type": "stream",
     "text": [
      "Welcome to JupyROOT 6.24/00\n"
     ]
    }
   ],
   "source": [
    "#import libraries and some constants\n",
    "import os, sys, json, pickle\n",
    "import numpy as np\n",
    "import matplotlib.pyplot as plt\n",
    "import pandas as pd\n",
    "import ROOT as rt # I will use this for some plotting\n",
    "import uproot as ur\n",
    "\n",
    "path_prefix = os.getcwd() + '/../'\n",
    "modelpath = path_prefix+'clusters/Models/'\n",
    "\n",
    "if(path_prefix not in sys.path): sys.path.append(path_prefix)\n",
    "from util import resolution_util as ru\n",
    "from util import plot_util as pu\n",
    "from util import ml_util as mu\n",
    "from util import qol_util as qu\n",
    "\n",
    "# metadata\n",
    "layers = [\"EMB1\", \"EMB2\", \"EMB3\", \"TileBar0\", \"TileBar1\", \"TileBar2\"]\n",
    "cell_size_phi = [0.098, 0.0245, 0.0245, 0.1, 0.1, 0.1]\n",
    "cell_size_eta = [0.0031, 0.025, 0.05, 0.1, 0.1, 0.2]\n",
    "len_phi = [4, 16, 16, 4, 4, 4]\n",
    "len_eta = [128, 16, 8, 4, 4, 2]\n",
    "cell_shapes = {layers[i]:(len_eta[i],len_phi[i]) for i in range(len(layers))}"
   ]
  },
  {
   "cell_type": "code",
   "execution_count": 2,
   "id": "695ab5e9-7527-493c-8107-29f6076957a4",
   "metadata": {},
   "outputs": [],
   "source": [
    "# fancy display names for each pion type\n",
    "pi_latex = {\n",
    "    'p0': '#pi^{0}',\n",
    "    'pp': '#pi^{#pm}',\n",
    "}\n",
    "\n",
    "# Plotting settings\n",
    "# xkcd -- turn this on for fun-looking (but marginally less useful) plots\n",
    "use_xkcd = False\n",
    "if(use_xkcd):\n",
    "    mode = 'light'\n",
    "    plt.xkcd(scale=.75,length=100,randomness=1)\n",
    "    \n",
    "# plotting style -- manages our color palette and object colors\n",
    "mode = 'dark' # for publications, use \"light\"\n",
    "plotstyle = qu.PlotStyle(mode)\n",
    "plotstyle.SetStyle()\n",
    "    \n",
    "# some matplotlib-specific stuff\n",
    "params = {'legend.fontsize': 13,\n",
    "          'axes.labelsize': 18}\n",
    "plt.rcParams.update(params)"
   ]
  },
  {
   "cell_type": "markdown",
   "id": "98113857-23e1-4fa1-9fae-bfea6dc06e83",
   "metadata": {},
   "source": [
    "Let's fetch the data we want to look at. We'll need to change the code below depending on what dataset we're inspecting (and however you've stored it on your system)."
   ]
  },
  {
   "cell_type": "code",
   "execution_count": 15,
   "id": "1c76a0c0-3615-417a-941f-91245e263e9f",
   "metadata": {},
   "outputs": [],
   "source": [
    "inputpath = path_prefix+'data/pion/'\n",
    "drpath = os.getcwd() + '/dr/pion/'\n",
    "\n",
    "datafiles = {\n",
    "    'p0':inputpath + 'user.angerami.mc16_13TeV.900246.PG_singlepi0_logE0p2to2000.e8312_e7400_s3170_r12383.v01-45-gaa27bcb_OutputStream/*.root',\n",
    "    'pp':inputpath + 'user.angerami.mc16_13TeV.900247.PG_singlepion_logE0p2to2000.e8312_e7400_s3170_r12383.v01-45-gaa27bcb_OutputStream/*.root'\n",
    "}\n",
    "\n",
    "drfiles = {key: val.replace(inputpath, drpath) for key,val in datafiles.items()}\n",
    "\n",
    "cluster_branches = [\n",
    "    'cluster_E', 'cluster_E_LCCalib', \n",
    "    'cluster_Pt', 'cluster_Eta', 'cluster_Phi', \n",
    "    'cluster_nCells',\n",
    "    'cluster_ENG_CALIB_TOT', 'cluster_EM_PROBABILITY',\n",
    "]\n",
    "\n",
    "dr_branches = [\n",
    "    'cluster_E', 'cluster_Eta', 'cluster_Phi', 'cluster_ENG_CALIB_TOT',\n",
    "    'truth_E', 'truth_Eta', 'truth_Phi', 'truth_PdgId',\n",
    "    'dR'\n",
    "]\n",
    "\n",
    "event_branches = [\n",
    "    'truthPartPt',\n",
    "    'truthPartE',\n",
    "    'truthPartEta',\n",
    "    'truthPartPhi',\n",
    "    'nCluster',\n",
    "    'clusterCount'\n",
    "]\n",
    "\n",
    "colors = {\n",
    "    'pp':rt.kRed,\n",
    "    'p0':plotstyle.curve\n",
    "}\n",
    "\n",
    "keys = list(datafiles.keys())"
   ]
  },
  {
   "cell_type": "code",
   "execution_count": 4,
   "id": "f3291fd4-2a97-430a-952e-8a257ac152bd",
   "metadata": {},
   "outputs": [],
   "source": [
    "cluster_tree = {\n",
    "    key:ur.lazy(':'.join((val,'ClusterTree')), branch_filter=lambda x: x.name in cluster_branches)\n",
    "    for key,val in datafiles.items()\n",
    "}\n",
    "\n",
    "dr_tree = {\n",
    "    key:ur.lazy(':'.join((val,'dr_info')), branch_filter=lambda x: x.name in dr_branches)\n",
    "    for key,val in drfiles.items()\n",
    "}"
   ]
  },
  {
   "cell_type": "code",
   "execution_count": 5,
   "id": "18a543d4-f678-4fef-adb0-11897640acb4",
   "metadata": {},
   "outputs": [],
   "source": [
    "# Perform some cuts on the data\n",
    "indices = {\n",
    "    key:np.full(len(val),True,dtype=bool)\n",
    "    for key,val in cluster_tree.items()\n",
    "}\n",
    "\n",
    "cuts = {\n",
    "    'eta':('cluster_Eta','window',(-0.7,0.7)),\n",
    "    'energy':('cluster_ENG_CALIB_TOT','lower',0.2)\n",
    "}\n",
    "\n",
    "for cutname, cut in cuts.items():\n",
    "    var, cuttype, cutval = cut\n",
    "    \n",
    "    for key in keys:\n",
    "        if cuttype == 'lower': sel = cluster_tree[key][var] > cutval\n",
    "        elif cuttype == 'upper': sel = cluster_tree[key][var] < cutval\n",
    "        elif cuttype == 'window':sel = (cluster_tree[key][var] > cutval[0]) * (cluster_tree[key][var] < cutval[1])\n",
    "        else: continue\n",
    "        indices[key] *= sel.to_numpy()\n",
    "        \n",
    "cluster_tree = {key:val[indices[key]] for key,val in cluster_tree.items()}\n",
    "dr_tree      = {key:val[indices[key]] for key,val in dr_tree.items()}"
   ]
  },
  {
   "cell_type": "code",
   "execution_count": 6,
   "id": "89eb7f68-d611-4636-9fac-5922a24da12f",
   "metadata": {},
   "outputs": [],
   "source": [
    "# Sanity check that things line up\n",
    "assert(np.sum(cluster_tree['pp']['cluster_E'] - dr_tree['pp']['cluster_E']) == 0.)"
   ]
  },
  {
   "cell_type": "code",
   "execution_count": 7,
   "id": "f1007eee-3980-4aca-8fea-49492f255feb",
   "metadata": {},
   "outputs": [],
   "source": [
    "# Convenience functions for histogramming, from numpy to ROOT.\n",
    "# Much faster than looping over data for sequential filling of histograms.\n",
    "def hist1d(x,h):\n",
    "    N = h.GetNbinsX()\n",
    "    bin_i = h.GetBinLowEdge(1)\n",
    "    bin_f = h.GetBinLowEdge(N) + h.GetBinWidth(N)    \n",
    "    np_hist = np.histogram(x, bins=N, range=(bin_i, bin_f))[0]\n",
    "    for i in range(N):\n",
    "        h.SetBinContent(i+1, np_hist[i])\n",
    "    return\n",
    "\n",
    "def hist2d(x,y,h):\n",
    "    \n",
    "    Nx = h.GetNbinsX()\n",
    "    Ny = h.GetNbinsY()\n",
    "    \n",
    "    bin_xi = h.GetXaxis().GetBinLowEdge(1)\n",
    "    bin_xf = h.GetXaxis().GetBinLowEdge(Nx) + h.GetXaxis().GetBinWidth(Nx)\n",
    "    \n",
    "    bin_yi = h.GetYaxis().GetBinLowEdge(1)\n",
    "    bin_yf = h.GetYaxis().GetBinLowEdge(Ny) + h.GetYaxis().GetBinWidth(Ny)\n",
    "      \n",
    "    np_hist = np.histogram2d(x,y, bins=(Nx,Ny), range=((bin_xi,bin_xf),(bin_yi, bin_yf)))[0]\n",
    "    for i in range(Nx):\n",
    "        for j in range(Ny):\n",
    "            h.SetBinContent(i+1,j+1,np_hist[i,j])\n",
    "    return"
   ]
  },
  {
   "cell_type": "markdown",
   "id": "6923ce90-8632-4c86-9a2d-e14864ade502",
   "metadata": {},
   "source": [
    "## Plotting $\\Delta R$ (versus Energy)"
   ]
  },
  {
   "cell_type": "code",
   "execution_count": 11,
   "id": "0e6f38bb-c5c1-42e3-9243-e52be9374a17",
   "metadata": {},
   "outputs": [],
   "source": [
    "# 1D histograms\n",
    "h1 = {\n",
    "    'dR':{\n",
    "        key:rt.TH1F(qu.RN(),'{};#Delta R;% Count'.format(pi_latex[key]),120,0.,6.) \n",
    "        for key in keys\n",
    "    },\n",
    "    'cluster_E':{\n",
    "        key:rt.TH1F(qu.RN(),'{};E;% Count'.format(pi_latex[key]),2500,0.,2500.) \n",
    "        for key in keys\n",
    "    }\n",
    "}\n",
    "\n",
    "\n",
    "h2 = {\n",
    "    key:rt.TH2F(qu.RN(),'{};#Delta R;Energy [GeV];% Count'.format(pi_latex[key]),240,0.,6., 2500,0.,2500.) \n",
    "    for key in keys\n",
    "}\n",
    "\n",
    "for key in keys:\n",
    "    n = len(cluster_tree[key])\n",
    "    hist1d(dr_tree[key]['dR'].to_numpy(), h1['dR'][key])\n",
    "    hist1d(cluster_tree[key]['cluster_E'].to_numpy(), h1['cluster_E'][key])\n",
    "    \n",
    "    hist2d(\n",
    "        dr_tree[key]['dR'].to_numpy(), \n",
    "        cluster_tree[key]['cluster_E'].to_numpy(), \n",
    "        h2[key]\n",
    "    )\n",
    "    \n",
    "    for h in h1.values():\n",
    "        h[key].Scale(1./h[key].Integral())"
   ]
  },
  {
   "cell_type": "code",
   "execution_count": 74,
   "id": "15703126-a16a-45d0-b651-e40ae8907efa",
   "metadata": {},
   "outputs": [
    {
     "data": {
      "image/png": "[encoded data removed]",
      "text/plain": [
       "<IPython.core.display.Image object>"
      ]
     },
     "metadata": {},
     "output_type": "display_data"
    },
    {
     "data": {
      "image/png": "[encoded data removed]",
      "text/plain": [
       "<IPython.core.display.Image object>"
      ]
     },
     "metadata": {},
     "output_type": "display_data"
    }
   ],
   "source": [
    "rt.gStyle.SetOptStat(0)\n",
    "c1 = rt.TCanvas(qu.RN(),'c1',1600,600)\n",
    "c2 = rt.TCanvas(qu.RN(),'c2',1600,600)\n",
    "c1.Divide(2,1)\n",
    "c2.Divide(2,1)\n",
    "margin = 0.2\n",
    "\n",
    "c1.cd(1)\n",
    "hstack_a = rt.THStack()\n",
    "legend = rt.TLegend(0.7,0.7,0.9,0.9)\n",
    "legend.SetTextColor(plotstyle.text)\n",
    "for key in keys: \n",
    "    h1['dR'][key].SetLineColor(colors[key])\n",
    "    hstack_a.Add(h1['dR'][key])\n",
    "    legend.AddEntry(h1['dR'][key],pi_latex[key],'l')\n",
    "hstack_a.SetTitle('Min. #Delta R (truth, cluster);#Delta R;% Count')\n",
    "hstack_a.Draw('NOSTACK HIST')\n",
    "legend.Draw()\n",
    "rt.gPad.SetLogx()\n",
    "rt.gPad.SetLogy()\n",
    "\n",
    "c1.cd(2)\n",
    "hstack_b = rt.THStack()\n",
    "for key in keys: \n",
    "    h1['cluster_E'][key].SetLineColor(colors[key])\n",
    "    hstack_b.Add(h1['cluster_E'][key])\n",
    "hstack_b.SetTitle('cluster_E;E [GeV];% Count')\n",
    "hstack_b.Draw('NOSTACK HIST')\n",
    "legend.Draw()\n",
    "rt.gPad.SetLogx()\n",
    "rt.gPad.SetLogy()\n",
    "\n",
    "c2.cd()\n",
    "for i,key in enumerate(keys):\n",
    "    c2.cd(i+1)\n",
    "    rt.gPad.SetRightMargin(margin)\n",
    "    h2[key].Draw('COLZ')\n",
    "    #colorbar = h2[key].GetListOfFunctions().FindObject('palette')\n",
    "    #colorbar.SetX1NDC(1.- 0.9 * margin)\n",
    "    #colorbar.SetX2NDC(1.- 0.7 * margin)\n",
    "    rt.gPad.SetLogx()\n",
    "    rt.gPad.SetLogy()\n",
    "    rt.gPad.SetLogz()\n",
    "    \n",
    "c1.Draw()\n",
    "c2.Draw()"
   ]
  },
  {
   "cell_type": "markdown",
   "id": "eb5c7842-40ad-4ad3-8126-588f3fb5b6dc",
   "metadata": {},
   "source": [
    "Let's also look at the PDG Id's of the nearest truth particles."
   ]
  },
  {
   "cell_type": "code",
   "execution_count": 57,
   "id": "151ba3cc-f960-45f6-a30c-a37736b963d6",
   "metadata": {},
   "outputs": [],
   "source": [
    "pdg_codes = {\n",
    "    11 : 'e^{#pm}',\n",
    "    22 : '#gamma',\n",
    "    111 : '#pi^{0}',\n",
    "    211: '#pi^{#pm}'\n",
    "}\n",
    "\n",
    "pdg_vals = {\n",
    "    11: 0,\n",
    "    22: 1,\n",
    "    111: 2,\n",
    "    211: 3\n",
    "}\n",
    "\n",
    "pdg_bar_chart = {\n",
    "    key: rt.TH1F(qu.RN(),'Truth match;Particle;% Count',4,0,4)\n",
    "    for key in keys\n",
    "}\n",
    "\n",
    "for key,chart in pdg_bar_chart.items():\n",
    "    vals = np.abs(dr_tree[key]['truth_PdgId'].to_numpy())\n",
    "    vals = np.array([pdg_vals[x] for x in vals])\n",
    "    hist1d(vals,chart)\n",
    "    chart.Scale(1./chart.Integral())\n",
    "    "
   ]
  },
  {
   "cell_type": "code",
   "execution_count": 73,
   "id": "69e915ef-2eaa-4ab1-b9a0-0f9d0793ae2e",
   "metadata": {},
   "outputs": [
    {
     "data": {
      "image/png": "[encoded data removed]",
      "text/plain": [
       "<IPython.core.display.Image object>"
      ]
     },
     "metadata": {},
     "output_type": "display_data"
    }
   ],
   "source": [
    "c = rt.TCanvas(qu.RN(),'c',800,600)\n",
    "legend = rt.TLegend(0.8,0.8,0.9,0.9)\n",
    "legend.SetTextColor(plotstyle.text)\n",
    "stack = rt.THStack()\n",
    "stack.SetTitle('Truth match;Particle;% Count')\n",
    "for key,chart in pdg_bar_chart.items(): \n",
    "    chart.SetLineColor(colors[key])\n",
    "    chart.SetFillColorAlpha(colors[key],0.3)\n",
    "    stack.Add(chart)\n",
    "    legend.AddEntry(chart,pi_latex[key],'lf')\n",
    "\n",
    "stack.Draw('NOSTACK HIST')\n",
    "legend.Draw()\n",
    "rt.gPad.SetLogy()\n",
    "stack.SetMaximum(3. * stack.GetMaximum())\n",
    "rt.gPad.SetGrid()\n",
    "\n",
    "stack.GetXaxis().SetNdivisions(-4)\n",
    "stack.GetXaxis().SetLabelSize(0.05)\n",
    "for i,code in enumerate(pdg_codes.values()):\n",
    "    stack.GetXaxis().SetBinLabel(i+1,code)\n",
    "\n",
    "c.Draw()"
   ]
  },
  {
   "cell_type": "markdown",
   "id": "caa41fff-60ab-4ca7-a83f-19c2619a7772",
   "metadata": {},
   "source": [
    "We see that for charged pions, the truth particles are always the truth particles themselves -- this makes sense (the truth particles probably come from the generator level, *before* the hadronic showering).\n",
    "\n",
    "For the neutral pions, we have a mix of gammas, electrons/positrons and neutral pions themselves. The gammas completely dominate."
   ]
  }
 ],
 "metadata": {
  "kernelspec": {
   "display_name": "Python 3",
   "language": "python",
   "name": "python3"
  },
  "language_info": {
   "codemirror_mode": {
    "name": "ipython",
    "version": 3
   },
   "file_extension": ".py",
   "mimetype": "text/x-python",
   "name": "python",
   "nbconvert_exporter": "python",
   "pygments_lexer": "ipython3",
   "version": "3.9.4"
  }
 },
 "nbformat": 4,
 "nbformat_minor": 5
}
