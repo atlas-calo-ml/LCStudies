{
 "cells": [
  {
   "cell_type": "markdown",
   "metadata": {},
   "source": [
    "# TopoCluster Regression: IQR Comparison"
   ]
  },
  {
   "cell_type": "code",
   "execution_count": 1,
   "metadata": {},
   "outputs": [],
   "source": [
    "# source & subdir -- used to specify a set of networks that were trained with particular data & settings\n",
    "source = 'pion'\n",
    "subdir = 'pion1'"
   ]
  },
  {
   "cell_type": "markdown",
   "metadata": {},
   "source": [
    "#### 1) Initial setup"
   ]
  },
  {
   "cell_type": "code",
   "execution_count": 2,
   "metadata": {},
   "outputs": [
    {
     "name": "stdout",
     "output_type": "stream",
     "text": [
      "Welcome to JupyROOT 6.24/00\n"
     ]
    }
   ],
   "source": [
    "# Import some basic libraries.\n",
    "import sys, os, glob, pathlib\n",
    "import numpy as np\n",
    "import h5py as h5\n",
    "import ROOT as rt # used for plotting\n",
    "from numba import jit\n",
    "    \n",
    "# Import our resolution utilities\n",
    "path_prefix = os.getcwd() + '/../'\n",
    "if(path_prefix not in sys.path): sys.path.append(path_prefix)\n",
    "from util import plot_util       as pu\n",
    "from util import ml_util         as mu\n",
    "from util import qol_util        as qu\n",
    "\n",
    "# regression-specific imports\n",
    "from util.regression import plot_util as rpu\n",
    "\n",
    "rt.gStyle.SetOptStat(0)\n",
    "# use our custom dark style for plots\n",
    "plotstyle = qu.PlotStyle('dark')\n",
    "plotstyle.SetStyle() # still need to manually adjust legends, paves\n",
    "\n",
    "plotpath = path_prefix + 'regression/Plots/{}/'.format(subdir)\n",
    "modelpath = path_prefix + 'regression/Models/{}/'.format(subdir)\n",
    "paths = [plotpath, modelpath]\n",
    "for path in paths:\n",
    "    try: os.makedirs(plotpath)\n",
    "    except: pass\n",
    "\n",
    "# metadata\n",
    "layers = [\"EMB1\", \"EMB2\", \"EMB3\", \"TileBar0\", \"TileBar1\", \"TileBar2\"]\n",
    "cell_size_phi = [0.098, 0.0245, 0.0245, 0.1, 0.1, 0.1]\n",
    "cell_size_eta = [0.0031, 0.025, 0.05, 0.1, 0.1, 0.2]\n",
    "len_phi = [4, 16, 16, 4, 4, 4]\n",
    "len_eta = [128, 16, 8, 4, 4, 2]\n",
    "cell_shapes = {layers[i]:(len_eta[i],len_phi[i]) for i in range(len(layers))}"
   ]
  },
  {
   "cell_type": "markdown",
   "metadata": {},
   "source": [
    "#### 2) Get Results\n",
    "\n",
    "Rather than get the data, networks & re-evaluate everything, we're just going to load network outputs from HDF5 files that were saved during training & evaluation in our training notebook. This means that this notebook should run rather quickly (and not require GPU resources for quick network evaluation). Just make sure not to throw out the HDF5 files with results, otherwise you will have to remake them with the other notebook."
   ]
  },
  {
   "cell_type": "code",
   "execution_count": 3,
   "metadata": {},
   "outputs": [],
   "source": [
    "# TODO: Get baseline results (need to save reco to an HDF5 file too)"
   ]
  },
  {
   "cell_type": "code",
   "execution_count": 4,
   "metadata": {},
   "outputs": [],
   "source": [
    "# list of networks to evaluate\n",
    "models = ['all','simple','simple_cnn','split_emb_cnn','resnet']\n",
    "colors = [rt.kRed, rt.kYellow, rt.kBlue, rt.kGreen, rt.kViolet]\n",
    "result_files = {\n",
    "    model:{\n",
    "        'pp':h5.File(modelpath + '{}/{}_charged_output.h5'.format(model,model),'r'),\n",
    "        'p0':h5.File(modelpath + '{}/{}_neutral_output.h5'.format(model,model),'r'),\n",
    "    }\n",
    "    for model in models\n",
    "}\n",
    "\n",
    "results = {\n",
    "    model:{\n",
    "        key:{\n",
    "            'output':file['output'][file['test'][:]],\n",
    "            'truth':file['truth'][file['test'][:]],\n",
    "        }\n",
    "        for key,file in result_files[model].items()\n",
    "    }\n",
    "    for model in models\n",
    "}\n",
    "\n",
    "for fdict in result_files.values():\n",
    "    for key,val in fdict.items():\n",
    "        val.close()"
   ]
  },
  {
   "cell_type": "markdown",
   "metadata": {},
   "source": [
    "#### 3) Make IQR plots (with ROOT)\n",
    "\n",
    "**TODO**: Try using some of our custom (matplotlib-based) functions. Maybe the plots will look nice?"
   ]
  },
  {
   "cell_type": "code",
   "execution_count": 5,
   "metadata": {},
   "outputs": [],
   "source": [
    "iqr_hists = {\n",
    "    model:{\n",
    "        key: rpu.IqrPlot(data['output'],data['truth'], nbins = 50, x_range=(0.,500.))\n",
    "        for key,data in results[model].items()\n",
    "    }\n",
    "    for model in models\n",
    "}"
   ]
  },
  {
   "cell_type": "code",
   "execution_count": 7,
   "metadata": {},
   "outputs": [
    {
     "data": {
      "image/png": "[encoded data removed]",
      "text/plain": [
       "<IPython.core.display.Image object>"
      ]
     },
     "metadata": {},
     "output_type": "display_data"
    },
    {
     "data": {
      "image/png": "[encoded data removed]",
      "text/plain": [
       "<IPython.core.display.Image object>"
      ]
     },
     "metadata": {},
     "output_type": "display_data"
    }
   ],
   "source": [
    "canvases = []\n",
    "stacks = []\n",
    "legends = []\n",
    "\n",
    "pname = {\n",
    "    'pp':'#pi^{#pm}',\n",
    "    'p0':'#pi^{0}'\n",
    "}\n",
    "\n",
    "for pkey in pname.keys():\n",
    "\n",
    "    c = rt.TCanvas(qu.RN(),'c1',800,600)\n",
    "    stack = rt.THStack()\n",
    "    leg = rt.TLegend(0.75,0.7,0.9,0.9)\n",
    "    leg.SetTextColor(plotstyle.text)\n",
    "\n",
    "    for i,model in enumerate(models):\n",
    "        iqr_hists[model][pkey].SetLineColor(colors[i])\n",
    "        stack.Add(iqr_hists[model][pkey])\n",
    "        leg.AddEntry(iqr_hists[model][pkey],model,'l')\n",
    "\n",
    "    stack.Draw('NOSTACK HIST')\n",
    "\n",
    "    stack.SetMaximum(10.)\n",
    "    rt.gPad.SetLogy()\n",
    "\n",
    "    stack.SetTitle('IQR Plot ({});Energy [GeV];Interquartile Range'.format(pname[pkey]))\n",
    "    leg.Draw()\n",
    "    c.Draw()\n",
    "    \n",
    "    stacks.append(stack)\n",
    "    canvases.append(c)\n",
    "    legends.append(leg)"
   ]
  },
  {
   "cell_type": "markdown",
   "metadata": {},
   "source": [
    "I still need to re-implement plotting of the \"default\" resolution from just using the reconstruction-level energy itself -- this is the baseline result."
   ]
  },
  {
   "cell_type": "code",
   "execution_count": null,
   "metadata": {},
   "outputs": [],
   "source": []
  }
 ],
 "metadata": {
  "file_extension": ".py",
  "kernelspec": {
   "display_name": "Python 3",
   "language": "python",
   "name": "python3"
  },
  "language_info": {
   "codemirror_mode": {
    "name": "ipython",
    "version": 3
   },
   "file_extension": ".py",
   "mimetype": "text/x-python",
   "name": "python",
   "nbconvert_exporter": "python",
   "pygments_lexer": "ipython3",
   "version": "3.8.10"
  },
  "mimetype": "text/x-python",
  "name": "python",
  "npconvert_exporter": "python",
  "pygments_lexer": "ipython3",
  "version": 3
 },
 "nbformat": 4,
 "nbformat_minor": 4
}
